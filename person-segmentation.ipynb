{
 "cells": [
  {
   "cell_type": "code",
   "execution_count": 1,
   "metadata": {},
   "outputs": [],
   "source": [
    "import os\n",
    "import skimage.io as io\n",
    "import imageio\n",
    "import numpy as np\n",
    "%matplotlib inline\n",
    "import matplotlib.pyplot as plt"
   ]
  },
  {
   "cell_type": "markdown",
   "metadata": {},
   "source": [
    "## Import TensorFlow and enable eager execution"
   ]
  },
  {
   "cell_type": "code",
   "execution_count": 2,
   "metadata": {},
   "outputs": [],
   "source": [
    "import tensorflow as tf\n",
    "tf.enable_eager_execution()"
   ]
  },
  {
   "cell_type": "markdown",
   "metadata": {},
   "source": [
    "## Settings"
   ]
  },
  {
   "cell_type": "code",
   "execution_count": 3,
   "metadata": {},
   "outputs": [],
   "source": [
    "COCO_ROOT = '/data/COCO/'\n",
    "WEIGHT_DECAY = 0.0005\n",
    "TRAIN_BATCH_SIZE = 16\n",
    "VAL_BATCH_SIZE = 16\n",
    "TRAIN_EPOCHS = 45\n",
    "INPUT_SIZE = 384\n",
    "LEARNING_RATE = 0.0001\n",
    "LOG_DIR = 'logs/person_coco_aspp'"
   ]
  },
  {
   "cell_type": "markdown",
   "metadata": {},
   "source": [
    "## Import COCO API"
   ]
  },
  {
   "cell_type": "code",
   "execution_count": 4,
   "metadata": {},
   "outputs": [],
   "source": [
    "import sys\n",
    "sys.path.insert(0, os.path.join(COCO_ROOT, 'cocoapi/PythonAPI'))\n",
    "from pycocotools.coco import COCO"
   ]
  },
  {
   "cell_type": "markdown",
   "metadata": {},
   "source": [
    "## Dataset base class"
   ]
  },
  {
   "cell_type": "code",
   "execution_count": 5,
   "metadata": {},
   "outputs": [],
   "source": [
    "class Dataset():\n",
    "\n",
    "    def crop_images(self, img, inp_size, random_crop=False):\n",
    "        shape = tf.shape(img)\n",
    "        pad = (\n",
    "            [0, tf.maximum(inp_size - shape[0], 0)],\n",
    "            [0, tf.maximum(inp_size - shape[1], 0)],\n",
    "            [0, 0],\n",
    "        )\n",
    "        img = tf.pad(img, pad)\n",
    "\n",
    "        if random_crop:\n",
    "            img = tf.random_crop(img, (inp_size, inp_size, shape[2]))\n",
    "        else: # central crop\n",
    "            shape = tf.shape(img)\n",
    "            ho = (shape[0] - inp_size) // 2\n",
    "            wo = (shape[1] - inp_size) // 2\n",
    "            img = img[ho:ho+inp_size, wo:wo+inp_size, :]\n",
    "\n",
    "        return img\n",
    "\n",
    "    def train_dataset(self, batch_size, epochs, inp_size):\n",
    "\n",
    "        def item_to_images(item):\n",
    "            random_crop = True\n",
    "            img_combined = tf.py_function(self.read_images, [item], tf.uint8)\n",
    "            img_combined = self.crop_images(img_combined, inp_size, random_crop)\n",
    "\n",
    "            img = tf.cast(img_combined[...,:3], tf.float32) / np.float32(255.)\n",
    "            mask_class = tf.cast(img_combined[...,3:4], tf.float32)\n",
    "            return img, mask_class\n",
    "\n",
    "        dataset = tf.data.Dataset.from_tensor_slices(self.img_list)\n",
    "        dataset = dataset.shuffle(buffer_size=len(self.img_list))\n",
    "        dataset = dataset.map(item_to_images)\n",
    "        dataset = dataset.repeat(epochs)\n",
    "        dataset = dataset.batch(batch_size, drop_remainder=True)\n",
    "\n",
    "        return dataset\n",
    "\n",
    "    def val_dataset(self, batch_size, inp_size):\n",
    "\n",
    "        def item_to_images(item):\n",
    "            random_crop = False\n",
    "            img_combined = tf.py_function(self.read_images, [item], tf.uint8)\n",
    "            img_combined = self.crop_images(img_combined, inp_size, random_crop)\n",
    "\n",
    "            img = tf.cast(img_combined[...,:3], tf.float32) / np.float32(255.)\n",
    "            mask_class = tf.cast(img_combined[...,3:4], tf.float32)\n",
    "            return img, mask_class\n",
    "\n",
    "        dataset = tf.data.Dataset.from_tensor_slices(self.img_list)\n",
    "        dataset = dataset.map(item_to_images)\n",
    "        dataset = dataset.batch(batch_size, drop_remainder=True)\n",
    "\n",
    "        return dataset"
   ]
  },
  {
   "cell_type": "markdown",
   "metadata": {},
   "source": [
    "## COCO Dataset subclass"
   ]
  },
  {
   "cell_type": "code",
   "execution_count": 6,
   "metadata": {},
   "outputs": [],
   "source": [
    "class COCO_Dataset(Dataset):\n",
    "\n",
    "    def __init__(self, sublist):\n",
    "        ann_file_fpath = os.path.join(COCO_ROOT, 'annotations', 'instances_'+sublist+'2017.json')\n",
    "        self.coco = COCO(ann_file_fpath)\n",
    "        self.cat_ids = self.coco.getCatIds(catNms=['person'])\n",
    "        self.img_list = self.coco.getImgIds(catIds=self.cat_ids)\n",
    "\n",
    "    def read_images(self, img_id):\n",
    "        img_id = int(img_id.numpy())\n",
    "        img_data = self.coco.loadImgs(img_id)[0]\n",
    "        img_fname = '/'.join(img_data['coco_url'].split('/')[-2:])\n",
    "\n",
    "        img = io.imread(os.path.join(COCO_ROOT, img_fname))\n",
    "        if len(img.shape) == 2:\n",
    "            img = np.tile(img[..., None], (1, 1, 3))\n",
    "\n",
    "        ann_ids = self.coco.getAnnIds(imgIds=img_data['id'], catIds=self.cat_ids, iscrowd=None)\n",
    "        anns = self.coco.loadAnns(ann_ids)\n",
    "        mask_class = np.zeros((img.shape[0], img.shape[1]), dtype=np.uint8)\n",
    "        for i in range(len(anns)):\n",
    "            mask_class += self.coco.annToMask(anns[i])\n",
    "        mask_class = (mask_class > 0).astype(np.uint8)\n",
    "\n",
    "        img_combined = np.concatenate([img, mask_class[..., None]], axis=2)\n",
    "\n",
    "        return img_combined"
   ]
  },
  {
   "cell_type": "markdown",
   "metadata": {},
   "source": [
    "## Create train and validation datasets"
   ]
  },
  {
   "cell_type": "code",
   "execution_count": 7,
   "metadata": {},
   "outputs": [
    {
     "name": "stdout",
     "output_type": "stream",
     "text": [
      "loading annotations into memory...\n",
      "Done (t=11.50s)\n",
      "creating index...\n",
      "index created!\n",
      "loading annotations into memory...\n",
      "Done (t=0.37s)\n",
      "creating index...\n",
      "index created!\n",
      "WARNING:tensorflow:From /home/dkorobchenko/anaconda3/lib/python3.6/site-packages/tensorflow/python/ops/control_flow_ops.py:3632: colocate_with (from tensorflow.python.framework.ops) is deprecated and will be removed in a future version.\n",
      "Instructions for updating:\n",
      "Colocations handled automatically by placer.\n"
     ]
    }
   ],
   "source": [
    "COCO_dataset_train = COCO_Dataset('train')\n",
    "COCO_dataset_val = COCO_Dataset('val')\n",
    "\n",
    "train_ds = COCO_dataset_train.train_dataset(\n",
    "    TRAIN_BATCH_SIZE, TRAIN_EPOCHS, INPUT_SIZE)\n",
    "val_ds = COCO_dataset_val.val_dataset(\n",
    "    VAL_BATCH_SIZE, INPUT_SIZE)"
   ]
  },
  {
   "cell_type": "markdown",
   "metadata": {},
   "source": [
    "## Submodel: Convolution+BatchNorm+ReLU"
   ]
  },
  {
   "cell_type": "code",
   "execution_count": 8,
   "metadata": {},
   "outputs": [],
   "source": [
    "class CBR(tf.keras.Model):\n",
    "    def __init__(self, filters, kernel_size, **conv_params):\n",
    "        super(CBR, self).__init__()\n",
    "        self.conv = tf.layers.Conv2D(filters, kernel_size, activation=None, use_bias=False, **conv_params)\n",
    "        self.bn = tf.layers.BatchNormalization(axis=-1)\n",
    "\n",
    "    def __call__(self, inp, is_training=False):\n",
    "        out = self.conv(inp)\n",
    "        out = self.bn(out, training=is_training)\n",
    "        out = tf.nn.relu(out)\n",
    "        return out"
   ]
  },
  {
   "cell_type": "markdown",
   "metadata": {},
   "source": [
    "## Submodel: ASPP, inspired by Atrous Spatial Pyramid Pooling"
   ]
  },
  {
   "cell_type": "code",
   "execution_count": 9,
   "metadata": {},
   "outputs": [],
   "source": [
    "class ASPP(tf.keras.Model):\n",
    "    def __init__(self, **conv_params):\n",
    "        super(ASPP, self).__init__()\n",
    "        self.conv_1 = CBR(256, (1, 1), **conv_params)\n",
    "        self.conv_2 = CBR(256, (3, 3), dilation_rate=6, **conv_params)\n",
    "        self.conv_3 = CBR(256, (3, 3), dilation_rate=12, **conv_params)\n",
    "        self.conv_4 = CBR(256, (3, 3), dilation_rate=18, **conv_params)\n",
    "        self.conv_5 = CBR(256, (1, 1), **conv_params)\n",
    "\n",
    "    def __call__(self, inp, is_training=False):\n",
    "        out_1 = self.conv_1(inp, is_training)\n",
    "        out_2 = self.conv_2(inp, is_training)\n",
    "        out_3 = self.conv_3(inp, is_training)\n",
    "        out_4 = self.conv_4(inp, is_training)\n",
    "\n",
    "        out = tf.concat([out_1, out_2, out_3, out_4], axis=3)\n",
    "        out = self.conv_5(out, is_training)\n",
    "\n",
    "        return out"
   ]
  },
  {
   "cell_type": "markdown",
   "metadata": {},
   "source": [
    "## Main network definition"
   ]
  },
  {
   "cell_type": "code",
   "execution_count": 10,
   "metadata": {},
   "outputs": [],
   "source": [
    "class Model(tf.keras.Model):\n",
    "    def __init__(self, weight_decay=0.0):\n",
    "        super(Model, self).__init__()\n",
    "\n",
    "        conv_params = {\n",
    "            'padding': 'same',\n",
    "            'kernel_regularizer': tf.keras.regularizers.l2(weight_decay)\n",
    "        }\n",
    "\n",
    "        self.conv_1 = CBR(64, (3, 3), **conv_params)\n",
    "        self.conv_2 = CBR(64, (3, 3), **conv_params)\n",
    "        self.conv_3 = CBR(128, (3, 3), **conv_params)\n",
    "        self.conv_4 = CBR(128, (3, 3), **conv_params)\n",
    "        self.conv_5 = CBR(256, (3, 3), **conv_params)\n",
    "        self.conv_6 = CBR(256, (3, 3), **conv_params)\n",
    "        self.conv_7 = CBR(512, (3, 3), **conv_params)\n",
    "        self.conv_8 = CBR(512, (3, 3), **conv_params)\n",
    "        self.conv_9 = CBR(512, (3, 3), **conv_params)\n",
    "        self.conv_10 = CBR(512, (3, 3), **conv_params)\n",
    "\n",
    "        self.conv_11 = CBR(48, (1, 1), **conv_params)\n",
    "        self.conv_12 = CBR(256, (3, 3), **conv_params)\n",
    "        self.conv_13 = CBR(256, (3, 3), **conv_params)\n",
    "        self.conv_14 = tf.layers.Conv2D(1, (1, 1), activation=None, padding='same')\n",
    "\n",
    "        self.maxpool = tf.layers.MaxPooling2D((2, 2), (2, 2), padding='same')\n",
    "\n",
    "        self.aspp = ASPP(**conv_params)\n",
    "\n",
    "    def __call__(self, inp, is_training=False):\n",
    "\n",
    "        out = self.conv_1(inp, is_training)\n",
    "        out = self.conv_2(out, is_training)\n",
    "        out = self.maxpool(out)\n",
    "        out = self.conv_3(out, is_training)\n",
    "        out = self.conv_4(out, is_training)\n",
    "        out = self.maxpool(out)\n",
    "        out = self.conv_5(out, is_training)\n",
    "        out = self.conv_6(out, is_training)\n",
    "        out_enc_mid = out\n",
    "        out = self.maxpool(out)\n",
    "        out = self.conv_7(out, is_training)\n",
    "        out = self.conv_8(out, is_training)\n",
    "        out = self.maxpool(out)\n",
    "        out = self.conv_9(out, is_training)\n",
    "        out = self.conv_10(out, is_training)\n",
    "\n",
    "        out = self.aspp(out, is_training)\n",
    "\n",
    "        out = tf.image.resize_bilinear(out, tf.shape(out_enc_mid)[1:3])\n",
    "\n",
    "        out_enc_mid = self.conv_11(out_enc_mid, is_training)\n",
    "\n",
    "        out = tf.concat([out, out_enc_mid], axis=3)\n",
    "\n",
    "        out = self.conv_12(out, is_training)\n",
    "        out = self.conv_13(out, is_training)\n",
    "        out = self.conv_14(out)\n",
    "\n",
    "        out = tf.image.resize_bilinear(out, tf.shape(inp)[1:3])\n",
    "\n",
    "        return out"
   ]
  },
  {
   "cell_type": "markdown",
   "metadata": {},
   "source": [
    "## Create the network"
   ]
  },
  {
   "cell_type": "code",
   "execution_count": 11,
   "metadata": {},
   "outputs": [],
   "source": [
    "net = Model(weight_decay=WEIGHT_DECAY)"
   ]
  },
  {
   "cell_type": "markdown",
   "metadata": {},
   "source": [
    "## Loss function and validation evaluation"
   ]
  },
  {
   "cell_type": "code",
   "execution_count": 12,
   "metadata": {},
   "outputs": [],
   "source": [
    "def loss(logits, labels):\n",
    "    return tf.losses.sigmoid_cross_entropy(labels, logits)\n",
    "\n",
    "def evaluate_model(net, val_ds):\n",
    "    val_ds_iterator = val_ds.make_one_shot_iterator()\n",
    "    mean_loss = 0.0\n",
    "    counter = 0\n",
    "    for (img, gt) in val_ds_iterator:\n",
    "        logits = net(img, is_training=False)\n",
    "        mean_loss += loss(logits, gt)\n",
    "        counter += 1\n",
    "    mean_loss /= counter\n",
    "    return mean_loss"
   ]
  },
  {
   "cell_type": "markdown",
   "metadata": {},
   "source": [
    "## Create training structures"
   ]
  },
  {
   "cell_type": "code",
   "execution_count": 13,
   "metadata": {},
   "outputs": [
    {
     "name": "stdout",
     "output_type": "stream",
     "text": [
      "\n",
      "WARNING: The TensorFlow contrib module will not be included in TensorFlow 2.0.\n",
      "For more information, please see:\n",
      "  * https://github.com/tensorflow/community/blob/master/rfcs/20180907-contrib-sunset.md\n",
      "  * https://github.com/tensorflow/addons\n",
      "If you depend on functionality not listed there, please file an issue.\n",
      "\n"
     ]
    }
   ],
   "source": [
    "train_ds_iterator = train_ds.make_one_shot_iterator()\n",
    "\n",
    "optimizer = tf.train.AdamOptimizer(LEARNING_RATE)\n",
    "writer = tf.contrib.summary.create_file_writer(LOG_DIR)\n",
    "global_step = tf.train.get_or_create_global_step()\n",
    "\n",
    "ckpt_prefix = os.path.join(LOG_DIR, 'ckpt')\n",
    "ckpt = tf.train.Checkpoint(optimizer=optimizer, model=net, gs=global_step)\n",
    "ckpt_manager = tf.train.CheckpointManager(ckpt, ckpt_prefix, max_to_keep=5)\n",
    "if ckpt_manager.latest_checkpoint is not None:\n",
    "    print('Restoring from checkpoint: {}'.format(ckpt_manager.latest_checkpoint))\n",
    "    ckpt.restore(ckpt_manager.latest_checkpoint)"
   ]
  },
  {
   "cell_type": "markdown",
   "metadata": {},
   "source": [
    "## Run training loop"
   ]
  },
  {
   "cell_type": "code",
   "execution_count": 14,
   "metadata": {},
   "outputs": [
    {
     "name": "stdout",
     "output_type": "stream",
     "text": [
      "WARNING:tensorflow:From /home/dkorobchenko/anaconda3/lib/python3.6/site-packages/tensorflow/python/ops/losses/losses_impl.py:209: to_float (from tensorflow.python.ops.math_ops) is deprecated and will be removed in a future version.\n",
      "Instructions for updating:\n",
      "Use tf.cast instead.\n",
      "[   0] Loss: 3.7347\n",
      "[   0] Validation Loss: 0.6938\n",
      "[ 100] Loss: 2.6420\n",
      "...\n"
     ]
    }
   ],
   "source": [
    "for (img, gt) in train_ds_iterator:\n",
    "\n",
    "    gs = global_step.numpy()\n",
    "\n",
    "    # Forward\n",
    "    with tf.GradientTape() as tape:\n",
    "        logits = net(img, is_training=True)\n",
    "        loss_value = loss(logits, gt) + sum(net.losses)\n",
    "\n",
    "    # Bacward\n",
    "    grads = tape.gradient(loss_value, net.variables)\n",
    "    optimizer.apply_gradients(zip(grads, net.variables), global_step=global_step)\n",
    "\n",
    "    # Display loss and images\n",
    "    if gs % 100 == 0:\n",
    "        with writer.as_default():\n",
    "            with tf.contrib.summary.always_record_summaries():\n",
    "                tf.contrib.summary.scalar('loss', loss_value)\n",
    "                tf.contrib.summary.image('seg', tf.concat([gt, tf.sigmoid(logits)], axis=2))\n",
    "        print(\"[%4d] Loss: %2.4f\" % (gs, loss_value))\n",
    "\n",
    "    # Calc validation loss\n",
    "    if gs % 200 == 0:\n",
    "        val_loss = evaluate_model(net, val_ds)\n",
    "        with writer.as_default():\n",
    "            with tf.contrib.summary.always_record_summaries():\n",
    "                tf.contrib.summary.scalar('val_loss', val_loss)\n",
    "        print(\"[%4d] Validation Loss: %2.4f\" % (gs, val_loss))\n",
    "\n",
    "    # Save checkpoint\n",
    "    if gs % 1000 == 0:\n",
    "        ckpt_manager.save()\n",
    "\n",
    "ckpt_manager.save()"
   ]
  },
  {
   "cell_type": "markdown",
   "metadata": {},
   "source": [
    "## Inference parameters"
   ]
  },
  {
   "cell_type": "code",
   "execution_count": 15,
   "metadata": {},
   "outputs": [],
   "source": [
    "CKPT_DIR = 'logs/person_coco_aspp/ckpt'\n",
    "INPUT_IMG_FPATH = 'img/me_512.png'\n",
    "OUTPUT_IMG_FPATH = 'img/me_512_seg.png'"
   ]
  },
  {
   "cell_type": "markdown",
   "metadata": {},
   "source": [
    "## Create inference model and restore from a checkpoint"
   ]
  },
  {
   "cell_type": "code",
   "execution_count": 16,
   "metadata": {},
   "outputs": [
    {
     "data": {
      "text/plain": [
       "<tensorflow.python.training.checkpointable.util.CheckpointLoadStatus at 0x7f0914f29e80>"
      ]
     },
     "execution_count": 16,
     "metadata": {},
     "output_type": "execute_result"
    }
   ],
   "source": [
    "net = Model()\n",
    "\n",
    "ckpt = tf.train.Checkpoint(model=net)\n",
    "ckpt.restore(tf.train.latest_checkpoint(CKPT_DIR))"
   ]
  },
  {
   "cell_type": "markdown",
   "metadata": {},
   "source": [
    "## Load input image and run throught the netwwork"
   ]
  },
  {
   "cell_type": "code",
   "execution_count": 17,
   "metadata": {},
   "outputs": [],
   "source": [
    "img = imageio.imread(INPUT_IMG_FPATH)\n",
    "img = img[None, ...].astype(np.float32) / np.float32(255.)\n",
    "\n",
    "logits = net(img, is_training=False)\n",
    "img_out = tf.sigmoid(logits).numpy()\n",
    "img_out = np.round(img_out[0, ...] * 255.).astype(np.uint8)"
   ]
  },
  {
   "cell_type": "markdown",
   "metadata": {},
   "source": [
    "## Display input image and output segmentation"
   ]
  },
  {
   "cell_type": "code",
   "execution_count": 18,
   "metadata": {},
   "outputs": [
    {
     "data": {
      "image/png": "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